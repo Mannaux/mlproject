{
  "nbformat": 4,
  "nbformat_minor": 0,
  "metadata": {
    "colab": {
      "name": "Fredrucc.ipynb",
      "provenance": [],
      "collapsed_sections": []
    },
    "kernelspec": {
      "display_name": "Python 3",
      "name": "python3"
    }
  },
  "cells": [
    {
      "cell_type": "code",
      "metadata": {
        "id": "8lhlVLVTKnOj"
      },
      "source": [
        "import cv2\n",
        "from google.colab.patches import cv2_imshow"
      ],
      "execution_count": null,
      "outputs": []
    },
    {
      "cell_type": "code",
      "metadata": {
        "id": "l9bNjUd-aIKL"
      },
      "source": [
        "from PIL import Image\n",
        "from PIL import ImageDraw\n",
        "from PIL import ImageFilter\n",
        "from matplotlib import pyplot as plt"
      ],
      "execution_count": null,
      "outputs": []
    },
    {
      "cell_type": "code",
      "metadata": {
        "id": "WKzNlBsjnZwD"
      },
      "source": [
        "#filename = 'IMG_1691.JPG'\n",
        "\n",
        "# Load data\n",
        "\n",
        "batch1 = ('IMG_1227.JPG', 'IMG_1300.JPG', 'IMG_1324.JPG', 'IMG_1332.JPG', 'IMG_1347.JPG', 'IMG_1458.JPG', 'IMG_1464.JPG', 'IMG_1479.JPG', 'IMG_1567.JPG', 'IMG_2001.JPG')\n",
        "batch2 = ('IMG_2011.JPG', 'IMG_2105.JPG', 'IMG_2111.JPG', 'IMG_2233.JPG', 'IMG_2435.JPG', 'IMG_2508.JPG', 'IMG_2554.JPG', 'IMG_2644.JPG', 'IMG_2657.JPG', 'IMG_2681.JPG')\n",
        "batch3 = ('IMG_2704.JPG', 'IMG_2783.JPG', 'IMG_2799.JPG', 'IMG_2803.JPG', 'IMG_2813.JPG', 'IMG_2836.JPG', 'IMG_2850.JPG', 'IMG_2861.JPG', 'IMG_2875.JPG', 'IMG_2892.JPG')\n",
        "batch4 = ('IMG_2903.JPG', 'IMG_2944.JPG', 'IMG_2958.JPG', 'IMG_2962.JPG', 'IMG_2967.JPG', 'IMG_2972.JPG', 'IMG_2991.JPG', 'IMG_2994.JPG', 'IMG_3008.JPG', 'IMG_3013.JPG')\n",
        "batch5 = ('IMG_3027.JPG', 'IMG_3029.JPG', 'IMG_3045.JPG', 'IMG_3078.JPG', 'IMG_3082.JPG', 'IMG_3094.JPG', 'IMG_4000.JPG', 'IMG_4010.JPG', 'IMG_4029.JPG', 'IMG_4077.JPG')\n",
        "\n",
        "batches = (batch1, batch2, batch3, batch4, batch5)"
      ],
      "execution_count": null,
      "outputs": []
    },
    {
      "cell_type": "code",
      "metadata": {
        "id": "rRFJg4d0LKNQ"
      },
      "source": [
        "face_cascade = cv2.CascadeClassifier('haarcascade_frontalface_default.xml')\n",
        "i=0\n",
        "for batch in batches:\n",
        "  j=0\n",
        "  for filename in batch:\n",
        "\n",
        "    # Read the input image\n",
        "    img = cv2.imread(filename)\n",
        "    img2 = cv2.imread(filename)\n",
        "    back = img\n",
        "\n",
        "    #cv2_imshow(img)\n",
        "\n",
        "    # Convert into grayscale\n",
        "    gray = cv2.cvtColor(img, cv2.COLOR_BGR2GRAY)\n",
        "\n",
        "    # Detect faces\n",
        "    faces = face_cascade.detectMultiScale(gray, 1.1, 4)\n",
        "\n",
        "    back[:] = (255, 255, 255)\n",
        "\n",
        "    # Draw rectangle around the faces\n",
        "\n",
        "    \n",
        "    for (x, y, w, h) in faces:\n",
        "      if(x+w > 1100 and y+h > 1100):\n",
        "        cv2.rectangle(img2, (x, y), (x+w, y+h), (255, 0, 0), 2)\n",
        "        cv2.rectangle(back, (x, y), (x + w, y + h), (0, 0, 0), -1)\n",
        "    \n",
        "    filen = 'mask' + str(i) + str(j) + '.png'\n",
        "    filen2 = 'bound' + str(i) + str(j) + '.png'\n",
        "    cv2.imwrite(filen)\n",
        "    cv2.imwrite(filen2)\n",
        "    #cv2.imwrite('mask.png', back)\n",
        "    #cv2.imwrite('bound.png', img2)\n",
        "    j+=1\n",
        "  i+=1\n",
        "   \n",
        "\n",
        "# Display the output\n",
        "#cv2.imwrite('mask.png', back)\n",
        "#cv2_imwrite('boundbox.png', img2)\n",
        "#cv2_imshow(img2)"
      ],
      "execution_count": null,
      "outputs": []
    },
    {
      "cell_type": "code",
      "metadata": {
        "id": "KrCyVATHZs_5"
      },
      "source": [
        "i = 0\n",
        "for batch in batches:\n",
        "  j = 0\n",
        "  for filename in batch:\n",
        "    im = Image.open(filename).convert('RGB')\n",
        "    im = im.rotate(270, expand=True)\n",
        "\n",
        "    filemask = 'mask' + str(i) + str(j) + '.png'\n",
        "    mask = Image.open(filemask).convert('L')\n",
        "\n",
        "    blurred = im.filter(ImageFilter.GaussianBlur(1))\n",
        "\n",
        "    im.paste(blurred, mask=mask)\n",
        "\n",
        "    fileout = 'blurr' + str(i) + str(j) + '.png'\n",
        "    im.save(fileout)\n",
        "    j++\n",
        "  i++"
      ],
      "execution_count": null,
      "outputs": []
    },
    {
      "cell_type": "code",
      "metadata": {
        "colab": {
          "background_save": true
        },
        "id": "xTvAUvT7x20d"
      },
      "source": [
        "#done = cv2.imread('blurredImg.png')\n",
        "#cv2_imshow(done)"
      ],
      "execution_count": null,
      "outputs": []
    },
    {
      "cell_type": "code",
      "metadata": {
        "colab": {
          "background_save": true
        },
        "id": "KEwPRBIXBv3j"
      },
      "source": [
        "#ori = cv2.imread(filename)\n",
        "#cv2_imshow(ori)"
      ],
      "execution_count": null,
      "outputs": []
    }
  ]
}